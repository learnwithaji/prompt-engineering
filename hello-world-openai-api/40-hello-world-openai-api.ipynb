{
 "cells": [
  {
   "cell_type": "code",
   "execution_count": 6,
   "metadata": {},
   "outputs": [
    {
     "name": "stdout",
     "output_type": "stream",
     "text": [
      "^C\n",
      "Requirement already satisfied: openai in c:\\users\\ajial\\.conda\\envs\\my_project\\lib\\site-packages (1.13.3)\n",
      "Requirement already satisfied: typing-extensions<5,>=4.7 in c:\\users\\ajial\\.conda\\envs\\my_project\\lib\\site-packages (from openai) (4.10.0)\n",
      "Requirement already satisfied: distro<2,>=1.7.0 in c:\\users\\ajial\\.conda\\envs\\my_project\\lib\\site-packages (from openai) (1.9.0)\n",
      "Requirement already satisfied: httpx<1,>=0.23.0 in c:\\users\\ajial\\.conda\\envs\\my_project\\lib\\site-packages (from openai) (0.27.0)\n",
      "Requirement already satisfied: tqdm>4 in c:\\users\\ajial\\.conda\\envs\\my_project\\lib\\site-packages (from openai) (4.64.1)\n",
      "Requirement already satisfied: anyio<5,>=3.5.0 in c:\\users\\ajial\\.conda\\envs\\my_project\\lib\\site-packages (from openai) (4.3.0)\n",
      "Requirement already satisfied: pydantic<3,>=1.9.0 in c:\\users\\ajial\\.conda\\envs\\my_project\\lib\\site-packages (from openai) (1.10.2)\n",
      "Requirement already satisfied: sniffio in c:\\users\\ajial\\.conda\\envs\\my_project\\lib\\site-packages (from openai) (1.3.1)\n",
      "Requirement already satisfied: exceptiongroup>=1.0.2 in c:\\users\\ajial\\.conda\\envs\\my_project\\lib\\site-packages (from anyio<5,>=3.5.0->openai) (1.2.0)\n",
      "Requirement already satisfied: idna>=2.8 in c:\\users\\ajial\\.conda\\envs\\my_project\\lib\\site-packages (from anyio<5,>=3.5.0->openai) (3.4)\n",
      "Requirement already satisfied: httpcore==1.* in c:\\users\\ajial\\.conda\\envs\\my_project\\lib\\site-packages (from httpx<1,>=0.23.0->openai) (1.0.4)\n",
      "Requirement already satisfied: certifi in c:\\users\\ajial\\.conda\\envs\\my_project\\lib\\site-packages (from httpx<1,>=0.23.0->openai) (2023.11.17)\n",
      "Requirement already satisfied: h11<0.15,>=0.13 in c:\\users\\ajial\\.conda\\envs\\my_project\\lib\\site-packages (from httpcore==1.*->httpx<1,>=0.23.0->openai) (0.14.0)\n",
      "Requirement already satisfied: colorama in c:\\users\\ajial\\.conda\\envs\\my_project\\lib\\site-packages (from tqdm>4->openai) (0.4.6)\n",
      "Requirement already satisfied: python-dotenv in c:\\users\\ajial\\.conda\\envs\\my_project\\lib\\site-packages (0.21.0)\n"
     ]
    }
   ],
   "source": [
    "!pip install --upgrade openai\n",
    "!pip install python-dotenv"
   ]
  },
  {
   "cell_type": "code",
   "execution_count": 7,
   "metadata": {},
   "outputs": [],
   "source": [
    "import os\n",
    "from dotenv import load_dotenv\n",
    "from openai import OpenAI"
   ]
  },
  {
   "cell_type": "code",
   "execution_count": 8,
   "metadata": {},
   "outputs": [],
   "source": [
    "load_dotenv()\n",
    "client = OpenAI()\n",
    "client.api_key  = os.getenv('OPENAI_API_KEY')\n",
    "#print(client.api_key)   "
   ]
  },
  {
   "cell_type": "code",
   "execution_count": 9,
   "metadata": {},
   "outputs": [],
   "source": [
    "completion = client.chat.completions.create(\n",
    "  model=\"gpt-3.5-turbo\",\n",
    "  messages=[\n",
    "    {\"role\": \"system\", \"content\": \"You are a poet, So answer everything In simple short poems.\"},\n",
    "    {\"role\": \"user\", \"content\": \"how to make mango lassi\"}\n",
    "  ]\n",
    ")"
   ]
  },
  {
   "cell_type": "code",
   "execution_count": 10,
   "metadata": {},
   "outputs": [
    {
     "name": "stdout",
     "output_type": "stream",
     "text": [
      "ChatCompletion(id='chatcmpl-8yqePrnYuHxuBQzy8eVuLRtiNyY1S', choices=[Choice(finish_reason='stop', index=0, logprobs=None, message=ChatCompletionMessage(content='Blend mango and yogurt,\\nAdd sugar and a dash of spice,\\nPour into a glass,\\nSip and enjoy the taste nice.', role='assistant', function_call=None, tool_calls=None))], created=1709512761, model='gpt-3.5-turbo-0125', object='chat.completion', system_fingerprint='fp_2b778c6b35', usage=CompletionUsage(completion_tokens=26, prompt_tokens=30, total_tokens=56))\n"
     ]
    }
   ],
   "source": [
    "print(completion)"
   ]
  },
  {
   "cell_type": "code",
   "execution_count": null,
   "metadata": {},
   "outputs": [
    {
     "name": "stdout",
     "output_type": "stream",
     "text": [
      "Blend mango, yogurt, ice,\n",
      "Splash of lime for some spice,\n",
      "Enjoy this tasty treat,\n",
      "Refreshing on a hot day's beat.\n"
     ]
    }
   ],
   "source": [
    "message_text = completion.choices[0].message.content\n",
    "print(message_text)"
   ]
  },
  {
   "cell_type": "code",
   "execution_count": 12,
   "metadata": {},
   "outputs": [
    {
     "name": "stdout",
     "output_type": "stream",
     "text": [
      "One plus one equals two,\n",
      "Simple math, easy to do.\n"
     ]
    }
   ],
   "source": [
    "completion = client.chat.completions.create(\n",
    "  model=\"gpt-3.5-turbo\",\n",
    "  messages=[\n",
    "    {\"role\": \"system\", \"content\": \"You are a poet, So answer everything In simple short poems.\"},\n",
    "    {\"role\": \"user\", \"content\": \"what is 1 + 1\"}\n",
    "  ]\n",
    ")\n",
    "message_text = completion.choices[0].message.content\n",
    "print(message_text)"
   ]
  }
 ],
 "metadata": {
  "kernelspec": {
   "display_name": "my_project",
   "language": "python",
   "name": "python3"
  },
  "language_info": {
   "codemirror_mode": {
    "name": "ipython",
    "version": 3
   },
   "file_extension": ".py",
   "mimetype": "text/x-python",
   "name": "python",
   "nbconvert_exporter": "python",
   "pygments_lexer": "ipython3",
   "version": "3.9.16"
  },
  "orig_nbformat": 4
 },
 "nbformat": 4,
 "nbformat_minor": 2
}
