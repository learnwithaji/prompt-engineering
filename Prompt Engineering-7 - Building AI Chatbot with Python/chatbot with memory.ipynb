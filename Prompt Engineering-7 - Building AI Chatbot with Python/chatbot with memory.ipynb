{
 "cells": [
  {
   "cell_type": "code",
   "execution_count": 1,
   "metadata": {},
   "outputs": [],
   "source": [
    "import os\n",
    "from dotenv import load_dotenv\n",
    "from openai import OpenAI"
   ]
  },
  {
   "cell_type": "code",
   "execution_count": 2,
   "metadata": {},
   "outputs": [],
   "source": [
    "load_dotenv()\n",
    "client = OpenAI()\n",
    "client.api_key  = os.getenv('OPENAI_API_KEY')"
   ]
  },
  {
   "cell_type": "code",
   "execution_count": 3,
   "metadata": {},
   "outputs": [],
   "source": [
    "conversation_history = []"
   ]
  },
  {
   "cell_type": "code",
   "execution_count": 4,
   "metadata": {},
   "outputs": [],
   "source": [
    "def generate_response():\n",
    "    \n",
    "    system_prompt = \"You're a science bot. Answer science questions in one short sentence.\"\n",
    "\n",
    "    completion = client.chat.completions.create(\n",
    "    model=\"gpt-3.5-turbo\",\n",
    "    messages=[\n",
    "            {\"role\": \"system\", \"content\": system_prompt},\n",
    "            *conversation_history\n",
    "    ])\n",
    "\n",
    "    return completion.choices[0].message.content"
   ]
  },
  {
   "cell_type": "code",
   "execution_count": 5,
   "metadata": {},
   "outputs": [],
   "source": [
    "def handle_message(user_input):\n",
    "    conversation_history.append({\"role\":\"user\",\"content\":user_input})\n",
    "    sciencebot_response = generate_response()\n",
    "    conversation_history.append({\"role\":\"assistant\",\"content\":sciencebot_response})\n",
    "\n",
    "    print(\"You: \", user_input)\n",
    "    print(\"Science-bot:\", sciencebot_response)\n"
   ]
  },
  {
   "cell_type": "code",
   "execution_count": 6,
   "metadata": {},
   "outputs": [
    {
     "name": "stdout",
     "output_type": "stream",
     "text": [
      "Start typing your messages. Type 'bye' to end the conversation.\n",
      "You:  hi\n",
      "Science-bot: Hello! How can I help you with science today?\n",
      "You:  bye\n",
      "Science-bot: Goodbye! Don't hesitate to return if you have more science questions in the future.\n"
     ]
    }
   ],
   "source": [
    "print(\"Start typing your messages. Type 'bye' to end the conversation.\")\n",
    "\n",
    "while True:\n",
    "    user_input = input(\"You: \")\n",
    "    if user_input.lower() == \"bye\":\n",
    "        handle_message(user_input)\n",
    "        break\n",
    "    handle_message(user_input)    "
   ]
  }
 ],
 "metadata": {
  "kernelspec": {
   "display_name": "my_project",
   "language": "python",
   "name": "python3"
  },
  "language_info": {
   "codemirror_mode": {
    "name": "ipython",
    "version": 3
   },
   "file_extension": ".py",
   "mimetype": "text/x-python",
   "name": "python",
   "nbconvert_exporter": "python",
   "pygments_lexer": "ipython3",
   "version": "3.9.16"
  },
  "orig_nbformat": 4
 },
 "nbformat": 4,
 "nbformat_minor": 2
}
