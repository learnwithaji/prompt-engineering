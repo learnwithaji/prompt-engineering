{
 "cells": [
  {
   "cell_type": "code",
   "execution_count": 17,
   "metadata": {},
   "outputs": [],
   "source": [
    "import os\n",
    "from dotenv import load_dotenv\n",
    "from openai import OpenAI"
   ]
  },
  {
   "cell_type": "code",
   "execution_count": 18,
   "metadata": {},
   "outputs": [],
   "source": [
    "load_dotenv()\n",
    "client = OpenAI()\n",
    "client.api_key  = os.getenv('OPENAI_API_KEY')"
   ]
  },
  {
   "cell_type": "code",
   "execution_count": 19,
   "metadata": {},
   "outputs": [],
   "source": [
    "def generate_response(user_input):\n",
    "\n",
    "    user_prompt = user_input\n",
    "    system_prompt = \"You're a science bot. Answer science questions in one short sentence.\"\n",
    "    \n",
    "    completion = client.chat.completions.create(\n",
    "    model=\"gpt-3.5-turbo\",\n",
    "    messages=[\n",
    "            {\"role\": \"system\", \"content\":system_prompt },\n",
    "            {\"role\": \"user\", \"content\": user_prompt}\n",
    "    ])\n",
    "    return completion.choices[0].message.content"
   ]
  },
  {
   "cell_type": "code",
   "execution_count": 20,
   "metadata": {},
   "outputs": [
    {
     "name": "stdout",
     "output_type": "stream",
     "text": [
      "Start typing your messages. Type 'bye' to end the conversation.\n",
      "You: How big is sun\n",
      "Science-bot: The Sun has a diameter of about 1.4 million kilometers.\n",
      "You: How big is sun\n",
      "Science-bot: The Sun has a diameter of about 1.4 million kilometers.\n",
      "You: what is the color of it?\n",
      "Science-bot: As a science bot, I'm not sure what \"it\" is referring to, please provide more context.\n",
      "You: what is it made of \n",
      "Science-bot: It depends on the context, but most things are made of atoms.\n",
      "You: what is it made of \n",
      "Science-bot: Everything in the universe is made up of atoms.\n"
     ]
    }
   ],
   "source": [
    "print(\"Start typing your messages. Type 'bye' to end the conversation.\")\n",
    "\n",
    "while True:\n",
    "    user_input = input(\"You: \")\n",
    "    if user_input.lower() == \"bye\":       \n",
    "        break\n",
    "    bot_response = generate_response(user_input)\n",
    "    print(\"You: \" + user_input )\n",
    "    print(\"Science-bot: \" + bot_response)"
   ]
  }
 ],
 "metadata": {
  "kernelspec": {
   "display_name": "my_project",
   "language": "python",
   "name": "python3"
  },
  "language_info": {
   "codemirror_mode": {
    "name": "ipython",
    "version": 3
   },
   "file_extension": ".py",
   "mimetype": "text/x-python",
   "name": "python",
   "nbconvert_exporter": "python",
   "pygments_lexer": "ipython3",
   "version": "3.9.16"
  },
  "orig_nbformat": 4
 },
 "nbformat": 4,
 "nbformat_minor": 2
}
