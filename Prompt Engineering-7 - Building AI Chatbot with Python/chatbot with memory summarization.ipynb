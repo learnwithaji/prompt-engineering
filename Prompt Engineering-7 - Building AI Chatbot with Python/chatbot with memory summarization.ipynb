{
 "cells": [
  {
   "cell_type": "code",
   "execution_count": 1,
   "metadata": {},
   "outputs": [],
   "source": [
    "import os\n",
    "from dotenv import load_dotenv\n",
    "from openai import OpenAI"
   ]
  },
  {
   "cell_type": "code",
   "execution_count": 2,
   "metadata": {},
   "outputs": [],
   "source": [
    "load_dotenv()\n",
    "client = OpenAI()\n",
    "client.api_key  = os.getenv('OPENAI_API_KEY')"
   ]
  },
  {
   "cell_type": "code",
   "execution_count": 3,
   "metadata": {},
   "outputs": [],
   "source": [
    "conversation_history = []"
   ]
  },
  {
   "cell_type": "code",
   "execution_count": 4,
   "metadata": {},
   "outputs": [],
   "source": [
    "def generate_response():\n",
    "    \n",
    "    system_prompt = \"You're a science bot. Answer science questions in one short sentence.\"\n",
    "\n",
    "    completion = client.chat.completions.create(\n",
    "    model=\"gpt-3.5-turbo\",\n",
    "    messages=[\n",
    "            {\"role\": \"system\", \"content\": system_prompt},\n",
    "            *conversation_history\n",
    "    ])\n",
    "\n",
    "    return completion.choices[0].message.content"
   ]
  },
  {
   "cell_type": "code",
   "execution_count": 16,
   "metadata": {},
   "outputs": [],
   "source": [
    "def handle_message(user_input):\n",
    "    \n",
    "    conversation_history.append({\"role\":\"user\",\"content\":user_input})\n",
    "    sciencebot_response = generate_response()  \n",
    "    print(\"You: \", user_input)\n",
    "    print(\"Science-bot:\", sciencebot_response)\n",
    "    conversation_history.append({\"role\":\"assistant\",\"content\":sciencebot_response})\n",
    "\n",
    "    if len(conversation_history) >= 10:\n",
    "        user_prompt = \"\"\"Summarize the provided conversation between user and assistant into 30 words. \n",
    "        Ensure to include key points, queries, or requests discussed by the user. \n",
    "        Maintain clarity and coherence in the summary to aid the chatbot's response generation.\"\"\"\n",
    "\n",
    "        conversation_history.append({\"role\":\"user\",\"content\":user_prompt})\n",
    "        conversation_summary = generate_response()\n",
    "\n",
    "        print(\"Conversation History: \",conversation_summary)\n",
    "        conversation_history.clear()\n",
    "        conversation_history.append({\"role\":\"assistant\",\"content\":conversation_summary})"
   ]
  },
  {
   "cell_type": "code",
   "execution_count": 17,
   "metadata": {},
   "outputs": [
    {
     "name": "stdout",
     "output_type": "stream",
     "text": [
      "Start typing your messages. Type 'bye' to end the conversation.\n",
      "You:  How big is sun\n",
      "Science-bot: The Sun's diameter is about 1.4 million kilometers.\n",
      "You:  What is the color of it?\n",
      "Science-bot: The Sun appears yellowish-white in color.\n",
      "You:  what is it made of \n",
      "Science-bot: The Sun is primarily composed of hydrogen and helium gases.\n",
      "You:  how old is sun\n",
      "Science-bot: The Sun is estimated to be about 4.6 billion years old.\n",
      "You:  Why does the Sun appear to rise and set\n",
      "Science-bot: The apparent rising and setting of the Sun is due to the Earth's rotation on its axis.\n",
      "Conversation History:  User inquired about the Sun's size, color, composition, age, and the phenomenon of sunrise/set.\n",
      "You:  How does the Sun produce energy?\n",
      "Science-bot: The Sun produces energy through nuclear fusion in its core.\n",
      "You:  How does the Sun affect Earth's climate\n",
      "Science-bot: The Sun influences Earth's climate through variations in solar radiation.\n",
      "You:  What is a solar flare\n",
      "Science-bot: A solar flare is a sudden, intense release of energy on the Sun's surface.\n",
      "You:  can i go there\n",
      "Science-bot: It is not currently possible for humans to travel to the Sun.\n",
      "You:  when do you get highscet brightness\n",
      "Science-bot: I am a bot and do not experience changes in brightness as physical objects do.\n",
      "Conversation History:  User inquired about the Sun's size, composition, energy production, impact on Earth's climate, and solar flares.\n"
     ]
    }
   ],
   "source": [
    "print(\"Start typing your messages. Type 'bye' to end the conversation.\")\n",
    "conversation_history = []\n",
    "while True:\n",
    "    user_input = input(\"You: \")\n",
    "    if user_input.lower() == \"bye\":\n",
    "        break\n",
    "    handle_message(user_input)    "
   ]
  }
 ],
 "metadata": {
  "kernelspec": {
   "display_name": "my_project",
   "language": "python",
   "name": "python3"
  },
  "language_info": {
   "codemirror_mode": {
    "name": "ipython",
    "version": 3
   },
   "file_extension": ".py",
   "mimetype": "text/x-python",
   "name": "python",
   "nbconvert_exporter": "python",
   "pygments_lexer": "ipython3",
   "version": "3.9.16"
  },
  "orig_nbformat": 4
 },
 "nbformat": 4,
 "nbformat_minor": 2
}
